{
 "metadata": {
  "language_info": {
   "codemirror_mode": {
    "name": "ipython",
    "version": 3
   },
   "file_extension": ".py",
   "mimetype": "text/x-python",
   "name": "python",
   "nbconvert_exporter": "python",
   "pygments_lexer": "ipython3",
   "version": "3.8.8"
  },
  "orig_nbformat": 2,
  "kernelspec": {
   "name": "python3",
   "display_name": "Python 3",
   "language": "python"
  }
 },
 "nbformat": 4,
 "nbformat_minor": 2,
 "cells": [
  {
   "cell_type": "code",
   "execution_count": 1,
   "metadata": {},
   "outputs": [
    {
     "output_type": "stream",
     "name": "stdout",
     "text": [
      "/Users/tomonagasutashu/Projects/research-nic-conda\n"
     ]
    }
   ],
   "source": [
    "%load_ext autoreload\n",
    "%autoreload 2\n",
    "\n",
    "pwd =  %pwd\n",
    "from os import sep\n",
    "from os.path import join\n",
    "PROJECT_ROOT = join(sep, *pwd.split(\"research-nic-conda\")[0].split(sep)[:-1], \"research-nic-conda\")\n",
    "os.chdir(PROJECT_ROOT)\n",
    "print(PROJECT_ROOT)\n",
    "import torch\n",
    "device = 'cuda' if torch.cuda.is_available() else 'cpu'"
   ]
  },
  {
   "cell_type": "code",
   "execution_count": 2,
   "metadata": {},
   "outputs": [
    {
     "output_type": "stream",
     "name": "stdout",
     "text": [
      "cfg_file None not found, using default settings.\nfixed seed to: 0\n"
     ]
    }
   ],
   "source": [
    "# from config.config import get_config\n",
    "from config import get_config, fix_seed\n",
    "from model import LitHidden1, normalized_cos\n",
    "from src.preparation import get_dataset, get_data_loader, synthesize_data\n",
    "from src.processing import Synthesized_Dataset\n",
    "from src.visualize import visualize_output\n",
    "\n",
    "cfg = get_config()\n",
    "fix_seed(0)"
   ]
  },
  {
   "cell_type": "code",
   "execution_count": 6,
   "metadata": {},
   "outputs": [
    {
     "output_type": "stream",
     "name": "stdout",
     "text": [
      "saving to : /Users/tomonagasutashu/Projects/research-nic-conda/data/raw/normalized_cos.csv.gz\n",
      "saved\n",
      "(tensor([[0.2347, 0.7187]]), tensor([[0.]]))\n",
      "torch.Size([100, 1, 2])\n"
     ]
    }
   ],
   "source": [
    "df, path = synthesize_data(normalized_cos, \"normalized_cos\", project_root=PROJECT_ROOT, input_dim=2, N=1000)\n",
    "normalized_cos_dataset = Synthesized_Dataset(csv_file=path, project_root=PROJECT_ROOT)\n",
    "print(normalized_cos_dataset[0])\n",
    "# visualize_output(df, fig_show=True)\n",
    "normalized_cos_data_loader = get_data_loader(normalized_cos_dataset, batch_size=100)\n",
    "\n",
    "for i, d in enumerate(normalized_cos_data_loader):\n",
    "    print(d[0].shape)\n",
    "    \n",
    "    break\n"
   ]
  },
  {
   "cell_type": "code",
   "execution_count": 68,
   "metadata": {
    "tags": []
   },
   "outputs": [
    {
     "output_type": "stream",
     "name": "stdout",
     "text": [
      "fixed seed to: 0\n",
      "Files already downloaded and verified\n",
      "(tensor([[[-0.6000, -0.3098, -0.3020, -0.3020, -0.2471, -0.2078, -0.2706],\n",
      "         [-0.3098, -0.2784, -0.4118, -0.4196, -0.4196, -0.2941, -0.3961],\n",
      "         [-0.1294, -0.2941, -0.2314,  0.0039,  0.0118, -0.1922, -0.2235],\n",
      "         [-0.1843, -0.2235,  0.2000,  0.5294,  0.4745,  0.2000, -0.1922],\n",
      "         [-0.2235,  0.1059,  0.2392,  0.0275,  0.0588,  0.0196, -0.1765],\n",
      "         [-0.1373, -0.0902,  0.0588, -0.0824, -0.1922, -0.1843, -0.0196],\n",
      "         [ 0.1216, -0.0039, -0.1373, -0.1608, -0.1765, -0.2549, -0.2078]]]), 6)\n"
     ]
    },
    {
     "output_type": "error",
     "ename": "TypeError",
     "evalue": "'DataLoader' object is not subscriptable",
     "traceback": [
      "\u001b[0;31m---------------------------------------------------------------------------\u001b[0m",
      "\u001b[0;31mTypeError\u001b[0m                                 Traceback (most recent call last)",
      "\u001b[0;32m<ipython-input-68-1c4fa34dc4b3>\u001b[0m in \u001b[0;36m<module>\u001b[0;34m\u001b[0m\n\u001b[1;32m      3\u001b[0m \u001b[0mprint\u001b[0m\u001b[0;34m(\u001b[0m\u001b[0mdataset\u001b[0m\u001b[0;34m[\u001b[0m\u001b[0;36m0\u001b[0m\u001b[0;34m]\u001b[0m\u001b[0;34m)\u001b[0m\u001b[0;34m\u001b[0m\u001b[0;34m\u001b[0m\u001b[0m\n\u001b[1;32m      4\u001b[0m \u001b[0mdata_loader\u001b[0m \u001b[0;34m=\u001b[0m \u001b[0mget_data_loader\u001b[0m\u001b[0;34m(\u001b[0m\u001b[0mdataset\u001b[0m\u001b[0;34m,\u001b[0m \u001b[0;36m100\u001b[0m\u001b[0;34m)\u001b[0m\u001b[0;34m\u001b[0m\u001b[0;34m\u001b[0m\u001b[0m\n\u001b[0;32m----> 5\u001b[0;31m \u001b[0mdata_loader\u001b[0m\u001b[0;34m[\u001b[0m\u001b[0;36m0\u001b[0m\u001b[0;34m]\u001b[0m\u001b[0;34m\u001b[0m\u001b[0;34m\u001b[0m\u001b[0m\n\u001b[0m\u001b[1;32m      6\u001b[0m \u001b[0;31m# for i, d in enumerate(data_loader):\u001b[0m\u001b[0;34m\u001b[0m\u001b[0;34m\u001b[0m\u001b[0;34m\u001b[0m\u001b[0m\n\u001b[1;32m      7\u001b[0m \u001b[0;31m#     print(d[0].shape)\u001b[0m\u001b[0;34m\u001b[0m\u001b[0;34m\u001b[0m\u001b[0;34m\u001b[0m\u001b[0m\n",
      "\u001b[0;31mTypeError\u001b[0m: 'DataLoader' object is not subscriptable"
     ]
    }
   ],
   "source": [
    "fix_seed(0)\n",
    "dataset = get_dataset(PROJECT_ROOT, \"cifar10\", train_or_test=\"train\")\n",
    "print(dataset[0])\n",
    "data_loader = get_data_loader(dataset, 100)\n",
    "data_loader\n",
    "# for i, d in enumerate(data_loader):\n",
    "#     print(d[0].shape)\n",
    "#     break\n",
    "#     # if i == 3:\n",
    "#     #     break"
   ]
  },
  {
   "cell_type": "code",
   "execution_count": null,
   "metadata": {},
   "outputs": [],
   "source": []
  }
 ]
}